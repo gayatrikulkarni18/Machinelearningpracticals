{
 "cells": [
  {
   "cell_type": "code",
   "execution_count": null,
   "id": "1a6102ae-83d1-4f2e-99da-4194c33e6b42",
   "metadata": {},
   "outputs": [],
   "source": [
    "#Import necessary libraries\n",
    "import pandas as pd\n",
    "import numpy as np\n",
    "import matplotlib.pyplot as plt\n",
    "import seaborn as sns\n",
    "from sklearn.model_selection import train_test_split\n",
    "from sklearn.model_linear_model import LogisticRegression\n",
    "from sklearn.metrics import accuracy_score, confusion_matrix, classification_report\n",
    "from sklearn.datasets import load_breast_cancer\n",
    "\n",
    "#Step 1: Load the inbulit Breast Cancer dataset\n",
    "cancer_data = load_breast_cancer()\n",
    "X = pd.DataFrame(cancer_data.data, columns=cancer_data.feature_names) #Feature\n",
    "y = pd.DataFrame(cancer_data.target, columns=['target']) # Target\n",
    "\n",
    "#Step 2: Explore the dataset\n",
    "print(\"Dataset Head:\")\n",
    "print(X.head()) # Preview the first few rows of the feature set\n",
    "\n",
    "print(\"\\nTarget Distribution:\")\n",
    "print(y['target'].value_counts()) # Distribution of the target variable (0 = malignant 1= benign)\n",
    "\n",
    "#Step 3: Split the databaset into traning and testing sets\n",
    "X_train, X_test, y_train, y_test = train_test_split(X, y, test_size=0.3, random_state=42)\n",
    "\n",
    "#Step 4 : Implement Logistic Regression\n",
    "logreg = LogisticRegression(max_itr=10000, random_state=42) #Incresed max_itr to ensure convergence\n",
    "logreg.fit(X_train, y_train.values.ravel()) # y_train must be passed as a flat aaray\n",
    "\n",
    "#Step 5 ; Make predictions on the test set\n",
    "y_pred = logreg.predict(X_test)\n",
    "\n",
    "#Step 6: Evaluate the model\n",
    "accuracy = accuracy_score(y_test, y_pred)\n",
    "conf_matrix = confusion_matrix(y_test, y_pred)\n",
    "class_report = classification_report(y_test, y_pred)\n",
    "\n",
    "print(f\"\\nAccuracy: {accuracy}\")\n",
    "print(\"\\nConfusion Matrix:\")\n",
    "print(conf_matrix)\n",
    "print(\"\\nClassification Report:\")\n",
    "print(class_report)\n",
    "\n",
    "# Step 7: Visualize the Confusion Matrix\n",
    "plt.figure(figsize=(6,4))\n",
    "sns.heatmap(conf_matrix, annot=True, fmt='d', cmap='Blues')\n",
    "plt.title('Confusion Matric')\n",
    "plt.ylabel('True Label')\n",
    "plt.xlabel('Predicted Label')\n",
    "plt.show()\n",
    "\n",
    "#Step 8:Make a prediction on a  new input sample\n",
    "#Example:Let's create a new sample input (using the mean of feature for simplicity)\n",
    "#You can replace these values with actual feature values you'd like to predict for\n",
    "\n",
    "new_input = np.array([X.mean().values])\n",
    "# Ensure the new input has the correct shape (1, n_features)\n",
    "print(f\"\\nNew Input for Prediction:\\n{new_input}\")\n",
    "\n",
    "#Make a prediction on the new input\n",
    "new_prediction = logreg.predict(new_input)\n",
    "\n",
    "#Get the predictied class (0= malignant, 1=bening)\n",
    "predicted_class = 'bening' if new_prediction == 1 else 'malignant'\n",
    "\n",
    "print(f\"\\nPredited class for the new input: {predicted_class}\")\n",
    "\n",
    "#Step 9 : Visualise the Confusion Matrix for the test set\n",
    "plt.figure(figsize=(6, 4))\n",
    "sns.heatmap(conf_matrix, annot=True, fmt='d', cmap='Blues')\n",
    "plt.title('Confusion Matrix- Test Set')\n",
    "plt.ylabel('Tre Label')\n",
    "plt.xlabel('Predicted Label')\n",
    "plt.show()"
   ]
  },
  {
   "cell_type": "code",
   "execution_count": 2,
   "id": "2e08aea8-679c-49ea-90dd-55b12c68889b",
   "metadata": {},
   "outputs": [
    {
     "name": "stdout",
     "output_type": "stream",
     "text": [
      "Note: you may need to restart the kernel to use updated packages.\n"
     ]
    },
    {
     "name": "stderr",
     "output_type": "stream",
     "text": [
      "ERROR: Invalid requirement: '='\n",
      "Hint: = is not a valid operator. Did you mean == ?\n"
     ]
    }
   ],
   "source": [
    "pip install numpy = 2.02"
   ]
  },
  {
   "cell_type": "code",
   "execution_count": null,
   "id": "1d0e2c6a-8c6e-401f-9334-91c0cbb6651b",
   "metadata": {},
   "outputs": [],
   "source": []
  }
 ],
 "metadata": {
  "kernelspec": {
   "display_name": "Python 3 (ipykernel)",
   "language": "python",
   "name": "python3"
  },
  "language_info": {
   "codemirror_mode": {
    "name": "ipython",
    "version": 3
   },
   "file_extension": ".py",
   "mimetype": "text/x-python",
   "name": "python",
   "nbconvert_exporter": "python",
   "pygments_lexer": "ipython3",
   "version": "3.12.4"
  }
 },
 "nbformat": 4,
 "nbformat_minor": 5
}
