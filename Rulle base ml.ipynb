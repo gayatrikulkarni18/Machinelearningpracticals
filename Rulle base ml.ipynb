{
 "cells": [
  {
   "cell_type": "code",
   "execution_count": 1,
   "id": "3b661c20-401e-4503-8bc2-4c81b0eae73a",
   "metadata": {},
   "outputs": [
    {
     "name": "stdout",
     "output_type": "stream",
     "text": [
      "Accuracy: 0.9666666666666667\n",
      "Confusion Matrix:\n",
      " [[10  0  0]\n",
      " [ 0  8  1]\n",
      " [ 0  0 11]]\n",
      "Classification Report:\n",
      "               precision    recall  f1-score   support\n",
      "\n",
      "      setosa       1.00      1.00      1.00        10\n",
      "  versicolor       1.00      0.89      0.94         9\n",
      "   virginica       0.92      1.00      0.96        11\n",
      "\n",
      "    accuracy                           0.97        30\n",
      "   macro avg       0.97      0.96      0.97        30\n",
      "weighted avg       0.97      0.97      0.97        30\n",
      "\n",
      "Gayatri Kulkarni - 53004230002\n"
     ]
    }
   ],
   "source": [
    "import numpy as np\n",
    "from sklearn.datasets import load_iris\n",
    "from sklearn.model_selection import train_test_split\n",
    "from sklearn.metrics import accuracy_score, confusion_matrix, classification_report\n",
    "\n",
    "#Load the Iris dataset\n",
    "iris = load_iris()\n",
    "X = iris.data\n",
    "y = iris.target\n",
    "\n",
    "#Split the data for testing\n",
    "X_train, X_test, y_train, y_test = train_test_split(X, y, test_size=0.2, random_state=42)\n",
    "\n",
    "#Define a simple rule-based classifier function\n",
    "def rule_based_classifier(x):\n",
    "    if x[2] < 2.0:\n",
    "        rule = \"If feature 2 < 2.0, assign to Classd 0\"\n",
    "        return 0 # Class 0\n",
    "    elif x[3] > 1.5:\n",
    "        rule = \"If feature 2 >= 2.0 and feature 3 > 1.5, assign to Class 2\"\n",
    "        return 2 # Class 2\n",
    "    else:\n",
    "        rule = \"If feature 2 >= 2.0 and feature 3 <=1.5, assign to Class 1\"\n",
    "        return 1 # Class 1\n",
    "    print(\"Rule:\", rule)\n",
    "\n",
    "# Apply the rule-based classifier to make predictions on the test set\n",
    "y_pred = [rule_based_classifier(x) for x in X_test]\n",
    "\n",
    "# Calculate accuracy, confusion matrix, and classification report\n",
    "accuracy = accuracy_score(y_test, y_pred)\n",
    "conf_matrix = confusion_matrix(y_test, y_pred)\n",
    "classification_rep = classification_report(y_test, y_pred, target_names=iris.target_names)\n",
    "\n",
    "# Print the results\n",
    "print(\"Accuracy:\", accuracy)\n",
    "print(\"Confusion Matrix:\\n\", conf_matrix)\n",
    "print(\"Classification Report:\\n\", classification_rep)\n",
    "print(\"Gayatri Kulkarni - 53004230002\")\n"
   ]
  },
  {
   "cell_type": "code",
   "execution_count": null,
   "id": "36d7bbdf-b7fb-4c61-a7b8-f09b574c2cb4",
   "metadata": {},
   "outputs": [],
   "source": []
  }
 ],
 "metadata": {
  "kernelspec": {
   "display_name": "Python 3 (ipykernel)",
   "language": "python",
   "name": "python3"
  },
  "language_info": {
   "codemirror_mode": {
    "name": "ipython",
    "version": 3
   },
   "file_extension": ".py",
   "mimetype": "text/x-python",
   "name": "python",
   "nbconvert_exporter": "python",
   "pygments_lexer": "ipython3",
   "version": "3.12.4"
  }
 },
 "nbformat": 4,
 "nbformat_minor": 5
}
